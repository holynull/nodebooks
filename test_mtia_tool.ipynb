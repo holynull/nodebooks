{
 "cells": [
  {
   "cell_type": "code",
   "execution_count": null,
   "metadata": {},
   "outputs": [],
   "source": [
    "from llama2 import MarketTrendAndInvestmentAdviseToolChain\n",
    "import asyncio\n",
    "from dotenv import load_dotenv\n",
    "\n",
    "load_dotenv(dotenv_path=\"env\")\n",
    "\n",
    "tool=MarketTrendAndInvestmentAdviseToolChain.from_create(verbose=True)\n",
    "user_input=input(\"Your prompt: \")\n",
    "asyncio.run(tool.arun(user_input))\n"
   ]
  }
 ],
 "metadata": {
  "language_info": {
   "name": "python"
  },
  "orig_nbformat": 4
 },
 "nbformat": 4,
 "nbformat_minor": 2
}
